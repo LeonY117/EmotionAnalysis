{
 "cells": [
  {
   "cell_type": "code",
   "execution_count": 2,
   "metadata": {},
   "outputs": [],
   "source": [
    "import numpy as np\n",
    "import nltk\n",
    "import pandas as pd\n",
    "\n",
    "from nltk.sentiment.vader import SentimentIntensityAnalyzer\n",
    "from afinn import Afinn\n",
    "from textblob import TextBlob"
   ]
  },
  {
   "attachments": {},
   "cell_type": "markdown",
   "metadata": {},
   "source": [
    "## Lexicon based methods"
   ]
  },
  {
   "cell_type": "code",
   "execution_count": 3,
   "metadata": {},
   "outputs": [
    {
     "name": "stdout",
     "output_type": "stream",
     "text": [
      "VADER:  {'neg': 0.0, 'neu': 0.58, 'pos': 0.42, 'compound': 0.4404}\n",
      "TextBlob:  Sentiment(polarity=0.7, subjectivity=0.6000000000000001)\n",
      "AFINN:  3.0\n"
     ]
    }
   ],
   "source": [
    "# VADER\n",
    "# nltk.download('vader_lexicon')\n",
    "vds = SentimentIntensityAnalyzer()\n",
    "test = \"hello i am a good test string\"\n",
    "print(\"VADER: \", vds.polarity_scores(test))\n",
    "\n",
    "# TextBlob\n",
    "wiki = TextBlob(test)\n",
    "print(\"TextBlob: \", wiki.sentiment)\n",
    "\n",
    "# AFINN\n",
    "afn = Afinn()\n",
    "print(\"AFINN: \", afn.score(test))"
   ]
  },
  {
   "cell_type": "code",
   "execution_count": 4,
   "metadata": {},
   "outputs": [],
   "source": [
    "def add_vader(df, text_col):\n",
    "    df['VADER_neg'] = df[text_col].apply(lambda x: vds.polarity_scores(x)['neg'])\n",
    "    df['VADER_neu'] = df[text_col].apply(lambda x: vds.polarity_scores(x)['neu'])\n",
    "    df['VADER_pos'] = df[text_col].apply(lambda x: vds.polarity_scores(x)['pos'])\n",
    "    df['VADER_compound'] = df[text_col].apply(lambda x: vds.polarity_scores(x)['compound'])\n",
    "    return df\n",
    "\n",
    "def add_textblob(df, text_col):\n",
    "    df['TextBlob_polarity'] = df[text_col].apply(lambda x: TextBlob(x).sentiment.polarity)\n",
    "    df['TextBlob_subjectivity'] = df[text_col].apply(lambda x: TextBlob(x).sentiment.subjectivity)\n",
    "    return df\n",
    "\n",
    "def add_afinn(df, text_col):\n",
    "    df['AFINN'] = df[text_col].apply(lambda x: afn.score(x))\n",
    "    return df"
   ]
  },
  {
   "attachments": {},
   "cell_type": "markdown",
   "metadata": {},
   "source": [
    "### Add scores to DataSets"
   ]
  },
  {
   "cell_type": "code",
   "execution_count": 11,
   "metadata": {},
   "outputs": [],
   "source": [
    "# EmoBank\n",
    "eb = pd.read_csv('../../data/clean/emobank.csv')\n",
    "eb = add_vader(eb, 'text')\n",
    "eb = add_textblob(eb, 'text')\n",
    "eb = add_afinn(eb, 'text')\n",
    "eb.to_csv('../../data/clean/emobank_lex.csv', index=False)"
   ]
  },
  {
   "cell_type": "code",
   "execution_count": 10,
   "metadata": {},
   "outputs": [],
   "source": [
    "# AffectiveText\n",
    "at = pd.read_csv('../../data/clean/affectivetext.csv')\n",
    "at = add_vader(at, 'instance')\n",
    "at = add_textblob(at, 'instance')\n",
    "at = add_afinn(at, 'instance')\n",
    "at.to_csv('../../data/clean/affectivetext_lex.csv', index=False)"
   ]
  },
  {
   "cell_type": "code",
   "execution_count": 7,
   "metadata": {},
   "outputs": [],
   "source": [
    "# EmoBank + AffectiveText\n",
    "eb_at = pd.read_csv('../../data/clean/emobank_affectivetext.csv')\n",
    "eb_at = add_vader(eb_at, 'text')\n",
    "eb_at = add_textblob(eb_at, 'text')\n",
    "eb_at = add_afinn(eb_at, 'text')\n",
    "eb_at.to_csv('../../data/clean/emobank_affectivetext_lex.csv', index=False)"
   ]
  }
 ],
 "metadata": {
  "kernelspec": {
   "display_name": "base",
   "language": "python",
   "name": "python3"
  },
  "language_info": {
   "codemirror_mode": {
    "name": "ipython",
    "version": 3
   },
   "file_extension": ".py",
   "mimetype": "text/x-python",
   "name": "python",
   "nbconvert_exporter": "python",
   "pygments_lexer": "ipython3",
   "version": "3.9.12"
  },
  "orig_nbformat": 4,
  "vscode": {
   "interpreter": {
    "hash": "19d1d53a962d236aa061289c2ac16dc8e6d9648c89fe79f459ae9a3493bc67b4"
   }
  }
 },
 "nbformat": 4,
 "nbformat_minor": 2
}
