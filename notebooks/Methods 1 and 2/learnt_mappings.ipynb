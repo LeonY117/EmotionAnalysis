{
 "cells": [
  {
   "cell_type": "code",
   "execution_count": 174,
   "metadata": {},
   "outputs": [
    {
     "name": "stdout",
     "output_type": "stream",
     "text": [
      "The autoreload extension is already loaded. To reload it, use:\n",
      "  %reload_ext autoreload\n"
     ]
    }
   ],
   "source": [
    "import torch\n",
    "import torch.nn as nn\n",
    "import numpy as np\n",
    "import pandas as pd\n",
    "from torch.utils.data import Dataset, DataLoader\n",
    "\n",
    "from functions import labelNet, MyDataset, train\n",
    "\n",
    "%load_ext autoreload\n",
    "%autoreload 2"
   ]
  },
  {
   "attachments": {},
   "cell_type": "markdown",
   "metadata": {},
   "source": [
    "## EMOBANK MODELS"
   ]
  },
  {
   "cell_type": "code",
   "execution_count": 175,
   "metadata": {},
   "outputs": [
    {
     "name": "stdout",
     "output_type": "stream",
     "text": [
      "Number of features:  7\n",
      "Number of classes:  6\n"
     ]
    }
   ],
   "source": [
    "eb = pd.read_csv(\"../../data/clean/emobank_affectivetext_lex.csv\")\n",
    "\n",
    "# Ekman classes\n",
    "classes = [\"anger\", \"disgust\", \"fear\", \"joy\", \"sadness\", \"surprise\"]\n",
    "features = [\"VADER_neg\", \"VADER_neu\", \"VADER_pos\", \"VADER_compound\"\\\n",
    "    , \"TextBlob_polarity\", \"TextBlob_subjectivity\", \"AFINN\"]\n",
    "# features = [\"VADER_neg\", \"VADER_neu\", \"VADER_pos\", \"VADER_compound\"]\n",
    "# features = [\"VADER_compound\", \"TextBlob_polarity\", \"TextBlob_subjectivity\", \"AFINN\"]\n",
    "# features = [\"V\", \"A\", \"D\"]\n",
    "print(\"Number of features: \", len(features))\n",
    "print(\"Number of classes: \", len(classes))\n",
    "\n",
    "# Split into train, test, dev\n",
    "eb_train = eb[eb[\"split\"] == \"train\"]\n",
    "eb_test = eb[eb[\"split\"] == \"test\"]\n",
    "eb_dev = eb[eb[\"split\"] == \"dev\"]\n",
    "\n",
    "# Create datasets\n",
    "train_dataset = MyDataset(eb_train[features+classes], features, classes)\n",
    "test_dataset = MyDataset(eb_test[features+classes], features, classes)\n",
    "dev_dataset = MyDataset(eb_dev[features+classes], features, classes)"
   ]
  },
  {
   "cell_type": "code",
   "execution_count": 176,
   "metadata": {},
   "outputs": [
    {
     "name": "stdout",
     "output_type": "stream",
     "text": [
      "Feature batch shape: torch.Size([200, 7])\n",
      "Labels batch shape: torch.Size([200, 6])\n",
      "Epoch: 100, Train Loss: 0.0087, Valid loss: 0.0138, Valid class acc: 0.4825\n",
      "Epoch: 200, Train Loss: 0.0087, Valid loss: 0.0138, Valid class acc: 0.4825\n",
      "Epoch: 300, Train Loss: 0.0087, Valid loss: 0.0137, Valid class acc: 0.5088\n",
      "Epoch: 400, Train Loss: 0.0086, Valid loss: 0.0137, Valid class acc: 0.4912\n",
      "Epoch: 500, Train Loss: 0.0087, Valid loss: 0.0137, Valid class acc: 0.4912\n",
      "Epoch: 600, Train Loss: 0.0086, Valid loss: 0.0137, Valid class acc: 0.5000\n",
      "Epoch: 700, Train Loss: 0.0086, Valid loss: 0.0137, Valid class acc: 0.4912\n",
      "Epoch: 800, Train Loss: 0.0086, Valid loss: 0.0137, Valid class acc: 0.4912\n",
      "Epoch: 900, Train Loss: 0.0086, Valid loss: 0.0137, Valid class acc: 0.4912\n",
      "Epoch: 1000, Train Loss: 0.0086, Valid loss: 0.0137, Valid class acc: 0.4912\n"
     ]
    }
   ],
   "source": [
    "model = labelNet(len(features), 20, len(classes), num_hidden=1)\n",
    "train_loader = DataLoader(train_dataset, batch_size=200, shuffle=True)\n",
    "dev_loader = DataLoader(dev_dataset, batch_size=1000, shuffle=True)\n",
    "train_features, train_labels = next(iter(train_loader))\n",
    "print(f\"Feature batch shape: {train_features.size()}\")\n",
    "print(f\"Labels batch shape: {train_labels.size()}\")\n",
    "\n",
    "model, train_loss, val_loss = train(model, train_loader, dev_loader, lr=5*1e-4\\\n",
    "                                    , epochs=1000)"
   ]
  },
  {
   "cell_type": "code",
   "execution_count": 177,
   "metadata": {},
   "outputs": [
    {
     "name": "stdout",
     "output_type": "stream",
     "text": [
      "Test set accuracy: 0.435\n"
     ]
    }
   ],
   "source": [
    "# classification accuracy on test set\n",
    "test_loader = DataLoader(test_dataset, batch_size=1000, shuffle=True)\n",
    "correct, total = 0, 0\n",
    "with torch.no_grad():\n",
    "    for features, labels in test_loader:\n",
    "        outputs = torch.argmax(model(features), dim=-1)\n",
    "        labels = torch.argmax(labels, dim=-1)\n",
    "        correct += torch.sum(outputs == labels)\n",
    "        total += len(labels)\n",
    "\n",
    "print(f\"Test set accuracy: {correct/total:.3f}\")"
   ]
  },
  {
   "cell_type": "code",
   "execution_count": 178,
   "metadata": {},
   "outputs": [
    {
     "data": {
      "image/png": "[encoded data removed]",
      "text/plain": [
       "<Figure size 640x480 with 1 Axes>"
      ]
     },
     "metadata": {},
     "output_type": "display_data"
    }
   ],
   "source": [
    "# plot training and validation loss over epochs\n",
    "import matplotlib.pyplot as plt\n",
    "\n",
    "plt.plot(train_loss, label=\"Training loss\")\n",
    "plt.plot(val_loss, label=\"Validation loss\")\n",
    "plt.legend(frameon=False)\n",
    "plt.show()"
   ]
  },
  {
   "attachments": {},
   "cell_type": "markdown",
   "metadata": {},
   "source": [
    "## Add pseudo labels to datasets"
   ]
  },
  {
   "cell_type": "code",
   "execution_count": 179,
   "metadata": {},
   "outputs": [],
   "source": [
    "def add_label(model, df, features, name=\"label\", save=False, save_path=None):\n",
    "    \"\"\"Add label predictions to dataframe\"\"\"\n",
    "    df = df.copy()\n",
    "    with torch.no_grad():\n",
    "        inputs = torch.tensor(df[features].values, dtype=torch.float)\n",
    "        labels = model(inputs)\n",
    "        labels = torch.argmax(labels, dim=-1)\n",
    "        df[name] = labels\n",
    "    if save and save_path:\n",
    "        df.to_csv(save_path, index=False)\n",
    "    return df"
   ]
  },
  {
   "cell_type": "code",
   "execution_count": 180,
   "metadata": {},
   "outputs": [],
   "source": [
    "features = [\"VADER_neg\", \"VADER_neu\", \"VADER_pos\", \"VADER_compound\"\\\n",
    "    , \"TextBlob_polarity\", \"TextBlob_subjectivity\", \"AFINN\"]\n",
    "# features = [\"V\", \"A\", \"D\"]\n",
    "\n",
    "# re-label the full emobank dataset\n",
    "eb_full = pd.read_csv(\"../../data/clean/emobank_relabelled.csv\", )\n",
    "add_label(model, eb_full, features, name=\"map_from_lex\"\\\n",
    "    , save=True, save_path=\"../../data/clean/emobank_relabelled.csv\")\n",
    "\n",
    "# re-label the children's high agreement dataset\n",
    "ch = pd.read_csv(\"../../data/clean/children_highAgree.csv\")\n",
    "\n",
    "# re-label the children's high agreement dataset\n",
    "ch = pd.read_csv(\"../../data/clean/children_highAgree.csv\")"
   ]
  }
 ],
 "metadata": {
  "kernelspec": {
   "display_name": "BDLenv",
   "language": "python",
   "name": "python3"
  },
  "language_info": {
   "codemirror_mode": {
    "name": "ipython",
    "version": 3
   },
   "file_extension": ".py",
   "mimetype": "text/x-python",
   "name": "python",
   "nbconvert_exporter": "python",
   "pygments_lexer": "ipython3",
   "version": "3.10.6"
  },
  "orig_nbformat": 4,
  "vscode": {
   "interpreter": {
    "hash": "e0516a4f0134d11d727d4d6ded12c3bd56d2d21755734cb8813876ac5444aae9"
   }
  }
 },
 "nbformat": 4,
 "nbformat_minor": 2
}
