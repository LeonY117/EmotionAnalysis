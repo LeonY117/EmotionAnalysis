{
 "cells": [
  {
   "attachments": {},
   "cell_type": "markdown",
   "metadata": {},
   "source": [
    "# Method 4: MTL with multiple heads"
   ]
  },
  {
   "cell_type": "code",
   "execution_count": 1,
   "metadata": {},
   "outputs": [],
   "source": [
    "import test\n",
    "import importlib\n",
    "importlib.reload(test)\n",
    "from test import *\n",
    "\n",
    "import torch\n",
    "import torch.nn as nn\n",
    "import torch.nn.functional as F\n",
    "from torch.utils.data import Dataset, DataLoader, TensorDataset\n"
   ]
  },
  {
   "cell_type": "code",
   "execution_count": 5,
   "metadata": {},
   "outputs": [
    {
     "name": "stdout",
     "output_type": "stream",
     "text": [
      "Hello World\n"
     ]
    }
   ],
   "source": [
    "fun()"
   ]
  },
  {
   "attachments": {},
   "cell_type": "markdown",
   "metadata": {},
   "source": [
    "### Load data comments\n",
    "- import data from clean file into pandas (data small enough to save all in memory)\n",
    "- load into a tensor for x, targets and migrate to gpu ideally and use in data loader\n",
    "- check mapping function in Method 1 and 2\n",
    "- then add tokenizer"
   ]
  },
  {
   "cell_type": "code",
   "execution_count": 195,
   "metadata": {},
   "outputs": [
    {
     "name": "stdout",
     "output_type": "stream",
     "text": [
      "===============\n",
      "Device: cpu\n",
      "===============\n"
     ]
    }
   ],
   "source": [
    "# CUDA for PyTorch\n",
    "use_cuda = torch.cuda.is_available()\n",
    "device = torch.device(\"cuda:0\" if use_cuda else \"cpu\")\n",
    "print('===============')\n",
    "print('Device:', device)\n",
    "print('===============')\n",
    "torch.backends.cudnn.benchmark = True"
   ]
  },
  {
   "attachments": {},
   "cell_type": "markdown",
   "metadata": {},
   "source": [
    "### Initializing random multi-task data"
   ]
  },
  {
   "cell_type": "code",
   "execution_count": 219,
   "metadata": {},
   "outputs": [],
   "source": [
    "# generate random data vector of dim 10\n",
    "n_t1 = 100\n",
    "dim = 10\n",
    "# Task 1: 3 classes {0, 1, 2}\n",
    "x_t1 = torch.rand(n_t1, dim)\n",
    "y_t1 = (x_t1.sum(dim=1)/3).floor()[:,None]\n",
    "\n",
    "# Task 2: 2 classes {0, 1}\n",
    "n_t2 = 80\n",
    "x_t2 = torch.rand(n_t2, dim)\n",
    "y_t2 = (x_t2.mean(dim=1) * 2).floor()[:,None]\n",
    "\n",
    "\n",
    "assert y_t1.shape == (n_t1,1) and y_t2.shape == (n_t2,1), \"y_t1 and y_t2 should be column vectors\"\n",
    "\n",
    "# create a Dataset object from the data\n",
    "train_data_t1 = TensorDataset(x_t1, y_t1)\n",
    "train_data_t2 = TensorDataset(x_t2, y_t2)\n",
    "# wrap into DataLoader\n",
    "train_dataloader_t1 = DataLoader(train_data_t1, batch_size=20, shuffle=True)\n",
    "train_dataloader_t2 = DataLoader(train_data_t2, batch_size=20, shuffle=True)\n",
    "#test_dataloader = DataLoader(test_data, batch_size=64, shuffle=True)\n",
    "\n",
    "\n",
    "\n"
   ]
  },
  {
   "cell_type": "code",
   "execution_count": 220,
   "metadata": {},
   "outputs": [
    {
     "data": {
      "text/plain": [
       "[tensor([[0.0367, 0.0717, 0.7306, 0.3167, 0.4394, 0.1374, 0.7035, 0.7189, 0.8907,\n",
       "          0.2355],\n",
       "         [0.7454, 0.7535, 0.1385, 0.3990, 0.4403, 0.4287, 0.7190, 0.7529, 0.8424,\n",
       "          0.9916],\n",
       "         [0.1055, 0.9786, 0.3669, 0.4567, 0.5582, 0.6739, 0.9362, 0.0764, 0.3545,\n",
       "          0.3518],\n",
       "         [0.5783, 0.6674, 0.2956, 0.7628, 0.5285, 0.3001, 0.2825, 0.7233, 0.9189,\n",
       "          0.3850],\n",
       "         [0.0749, 0.9781, 0.2161, 0.8046, 0.4939, 0.1386, 0.4381, 0.8156, 0.1917,\n",
       "          0.1964],\n",
       "         [0.2288, 0.3672, 0.6858, 0.6499, 0.1161, 0.3619, 0.1500, 0.1705, 0.3651,\n",
       "          0.5206],\n",
       "         [0.6678, 0.2509, 0.1645, 0.7738, 0.1540, 0.2388, 0.7867, 0.8994, 0.6025,\n",
       "          0.2089],\n",
       "         [0.0068, 0.4285, 0.5188, 0.8847, 0.2876, 0.4000, 0.5048, 0.8600, 0.3160,\n",
       "          0.6533],\n",
       "         [0.9717, 0.7975, 0.9889, 0.2402, 0.4842, 0.7976, 0.4748, 0.1207, 0.8505,\n",
       "          0.5367],\n",
       "         [0.8142, 0.2981, 0.8752, 0.9478, 0.6608, 0.0810, 0.0946, 0.9227, 0.2046,\n",
       "          0.8166],\n",
       "         [0.1230, 0.2272, 0.8099, 0.2165, 0.8001, 0.6507, 0.6772, 0.8004, 0.0078,\n",
       "          0.1154],\n",
       "         [0.1096, 0.0049, 0.0476, 0.3094, 0.0366, 0.8473, 0.3648, 0.3250, 0.7211,\n",
       "          0.4490],\n",
       "         [0.3181, 0.5865, 0.4541, 0.0746, 0.9145, 0.1304, 0.7514, 0.1508, 0.5042,\n",
       "          0.6009],\n",
       "         [0.6842, 0.1622, 0.7623, 0.9619, 0.3425, 0.3085, 0.2768, 0.3605, 0.4689,\n",
       "          0.1052],\n",
       "         [0.1634, 0.8570, 0.4561, 0.4793, 0.0786, 0.7037, 0.2565, 0.6364, 0.4206,\n",
       "          0.4946],\n",
       "         [0.9831, 0.9234, 0.6557, 0.8311, 0.7425, 0.3176, 0.1575, 0.7758, 0.7515,\n",
       "          0.5082],\n",
       "         [0.0318, 0.6394, 0.3401, 0.0236, 0.3401, 0.1161, 0.4778, 0.2363, 0.0983,\n",
       "          0.3716],\n",
       "         [0.7244, 0.2595, 0.1506, 0.4920, 0.3848, 0.9747, 0.5445, 0.3198, 0.5534,\n",
       "          0.0232],\n",
       "         [0.6676, 0.0558, 0.6263, 0.6270, 0.1693, 0.7042, 0.8381, 0.7285, 0.9783,\n",
       "          0.3877],\n",
       "         [0.7326, 0.6815, 0.5877, 0.8611, 0.6763, 0.3082, 0.3862, 0.6267, 0.2314,\n",
       "          0.9264]]),\n",
       " tensor([[1.],\n",
       "         [2.],\n",
       "         [1.],\n",
       "         [1.],\n",
       "         [1.],\n",
       "         [1.],\n",
       "         [1.],\n",
       "         [1.],\n",
       "         [2.],\n",
       "         [1.],\n",
       "         [1.],\n",
       "         [1.],\n",
       "         [1.],\n",
       "         [1.],\n",
       "         [1.],\n",
       "         [2.],\n",
       "         [0.],\n",
       "         [1.],\n",
       "         [1.],\n",
       "         [2.]])]"
      ]
     },
     "execution_count": 220,
     "metadata": {},
     "output_type": "execute_result"
    }
   ],
   "source": [
    "next(iter(train_dataloader_t1))"
   ]
  },
  {
   "cell_type": "code",
   "execution_count": 166,
   "metadata": {},
   "outputs": [
    {
     "data": {
      "text/plain": [
       "(torch.Size([100]),\n",
       " tensor([1., 1., 1., 1., 1., 1., 1., 1., 2., 1., 1., 1., 2., 1., 1., 1., 1., 1.,\n",
       "         1., 2., 1., 1., 1., 1., 1., 1., 1., 1., 1., 1., 1., 1., 1., 1., 1., 1.,\n",
       "         2., 0., 1., 1., 1., 2., 1., 2., 1., 0., 1., 1., 1., 2., 1., 1., 1., 1.,\n",
       "         1., 1., 1., 2., 1., 1., 1., 1., 1., 1., 1., 1., 2., 1., 1., 1., 1., 1.,\n",
       "         1., 1., 1., 1., 1., 1., 1., 2., 1., 1., 1., 1., 2., 1., 1., 1., 1., 1.,\n",
       "         1., 1., 1., 1., 1., 1., 1., 1., 1., 2.]))"
      ]
     },
     "execution_count": 166,
     "metadata": {},
     "output_type": "execute_result"
    }
   ],
   "source": [
    "y_t1.shape, y_t1"
   ]
  },
  {
   "cell_type": "code",
   "execution_count": 165,
   "metadata": {},
   "outputs": [
    {
     "data": {
      "text/plain": [
       "(torch.Size([100]),\n",
       " tensor([1., 1., 0., 1., 1., 1., 0., 1., 0., 1., 1., 1., 0., 0., 0., 1., 1., 1.,\n",
       "         1., 1., 0., 1., 1., 1., 1., 0., 0., 1., 1., 0., 0., 0., 0., 1., 1., 0.,\n",
       "         0., 1., 0., 1., 1., 0., 0., 0., 1., 1., 1., 0., 1., 0., 0., 1., 1., 0.,\n",
       "         0., 0., 1., 1., 0., 1., 1., 0., 1., 1., 1., 0., 1., 0., 0., 1., 1., 0.,\n",
       "         0., 0., 1., 0., 1., 1., 0., 1., 0., 0., 1., 0., 0., 1., 1., 1., 0., 1.,\n",
       "         1., 1., 0., 1., 0., 0., 0., 1., 0., 1.]))"
      ]
     },
     "execution_count": 165,
     "metadata": {},
     "output_type": "execute_result"
    }
   ],
   "source": [
    "y_t2.shape, y_t2"
   ]
  },
  {
   "attachments": {},
   "cell_type": "markdown",
   "metadata": {},
   "source": [
    "### MTL mutli-head network"
   ]
  },
  {
   "cell_type": "code",
   "execution_count": 47,
   "metadata": {},
   "outputs": [],
   "source": [
    "# when we have multiple tasks performed on the same input data\n",
    "class MTL(nn.Module):\n",
    "    def __init__(self, dim, h_dim, t1_out, t2_out):\n",
    "        super().__init__()\n",
    "        # joint hidden layers\n",
    "        self.BERT = nn.Linear(dim, h_dim)\n",
    "\n",
    "        # task-specific classification heads\n",
    "        self.cf_t1 = nn.Linear(h_dim, t1_out)\n",
    "        self.cf_t2 = nn.Linear(h_dim, t2_out)\n",
    "\n",
    "    def forward(self, x):\n",
    "        # joint hidden state\n",
    "        h = F.relu(self.BERT(x))\n",
    "        # task 1\n",
    "        p_t1 = F.softmax(self.cf_t1(h), dim=1)\n",
    "        # task 2\n",
    "        p_t2 = F.softmax(self.cf_t2(h), dim=1)\n",
    "    \n",
    "        return [p_t1, p_t2]"
   ]
  },
  {
   "cell_type": "code",
   "execution_count": 50,
   "metadata": {},
   "outputs": [],
   "source": [
    "# when we have multiple tasks performed on different input data\n",
    "class MTL(nn.Module):\n",
    "    '''\n",
    "    returns class probabilities for each task\n",
    "    '''\n",
    "    def __init__(self, dim, h_dim, t1_out, t2_out):\n",
    "        super().__init__()\n",
    "        # joint hidden layers\n",
    "        self.BERT = nn.Linear(dim, h_dim)\n",
    "\n",
    "        # task-specific classification heads\n",
    "        self.cf_t1 = nn.Linear(h_dim, t1_out)\n",
    "        self.cf_t2 = nn.Linear(h_dim, t2_out)\n",
    "\n",
    "    def forward(self, x, task_num=1):\n",
    "        # joint hidden state\n",
    "        h = F.relu(self.BERT(x))\n",
    "        # task 1\n",
    "        if task_num == 1:\n",
    "            p_t1 = F.softmax(self.cf_t1(h), dim=1)\n",
    "            return p_t1\n",
    "        # task 2\n",
    "        elif task_num == 2:\n",
    "            p_t2 = F.softmax(self.cf_t2(h), dim=1)\n",
    "            return p_t2\n",
    "        else:\n",
    "            print(\"Invalid task number\")\n",
    "            return None"
   ]
  },
  {
   "cell_type": "code",
   "execution_count": 143,
   "metadata": {},
   "outputs": [],
   "source": [
    "model = MTL(dim, 10, 3, 2)"
   ]
  },
  {
   "cell_type": "code",
   "execution_count": 111,
   "metadata": {},
   "outputs": [
    {
     "data": {
      "text/plain": [
       "tensor([[0.4525, 0.3207, 0.2268],\n",
       "        [0.4499, 0.2992, 0.2509]], grad_fn=<SoftmaxBackward0>)"
      ]
     },
     "execution_count": 111,
     "metadata": {},
     "output_type": "execute_result"
    }
   ],
   "source": [
    "model.forward(x_t1[0:2], task_num=1)"
   ]
  },
  {
   "cell_type": "code",
   "execution_count": 112,
   "metadata": {},
   "outputs": [],
   "source": [
    "# cross-entropy loss accepts logits as input and either class label or class probabilities vecoter as target: loss(input, target)\n",
    "# has an internal softmax\n",
    "# targets are class indices so {0,1} is valid and {-1,1} is not valid\n",
    "loss_fn = nn.CrossEntropyLoss()"
   ]
  },
  {
   "attachments": {},
   "cell_type": "markdown",
   "metadata": {},
   "source": [
    "### Training procedure"
   ]
  },
  {
   "cell_type": "code",
   "execution_count": 209,
   "metadata": {},
   "outputs": [
    {
     "name": "stdout",
     "output_type": "stream",
     "text": [
      "Epoch 1000/10000 | Loss: 0.6547\n",
      "Epoch 2000/10000 | Loss: 0.6014\n",
      "Epoch 3000/10000 | Loss: 0.6514\n",
      "Epoch 4000/10000 | Loss: 0.6014\n",
      "Epoch 5000/10000 | Loss: 0.6514\n",
      "Epoch 6000/10000 | Loss: 0.7014\n",
      "Epoch 7000/10000 | Loss: 0.6014\n",
      "Epoch 8000/10000 | Loss: 0.7014\n",
      "Epoch 9000/10000 | Loss: 0.6014\n",
      "Epoch 10000/10000 | Loss: 0.7514\n"
     ]
    }
   ],
   "source": [
    "model = MTL(dim, 10, 3, 2)\n",
    "# optimizer: RMSprop as in the paper\n",
    "# alpha: smoothing constant (default: 0.99)\n",
    "# eps: term added to the denominator to improve numerical stability (default: 1e-8)\n",
    "optimizer = torch.optim.RMSprop(model.parameters(), lr=0.001, alpha=0.99, eps=1e-08, weight_decay=0, momentum=0, centered=False)\n",
    "\n",
    "# loss function: cross-entropy\n",
    "loss_fn = nn.CrossEntropyLoss()\n",
    "\n",
    "epochs = 10000\n",
    "\n",
    "for epoch in range(1, epochs+1):\n",
    "    #mini_batches = \n",
    "    #for mini_batch in mini_batches:\n",
    "    for x_t1_mini, y_t1_mini in train_dataloader_t1:\n",
    "        # Transfer to GPU\n",
    "        x_t1_mini, y_t1_mini = x_t1_mini.to(device), y_t1_mini.to(device)\n",
    "\n",
    "        # zero the parameter gradients\n",
    "        optimizer.zero_grad()\n",
    "\n",
    "        # task 1\n",
    "        # get class probabilities\n",
    "        p_t1 = model.forward(x_t1_mini, task_num=1)\n",
    "        # make predictions\n",
    "        # y_pred_t1 = p_t1.argmax(dim=1).float()\n",
    "        # compute loss\n",
    "        loss_t1 = loss_fn(p_t1,y_t1_mini.long().squeeze())\n",
    "\n",
    "        # task 2\n",
    "        # get class probabilities\n",
    "        # p_t2 = model.forward(x_t2, task_num=2)\n",
    "        # compute loss\n",
    "        # loss_t2 = loss_fn(p_t2,y_t2.long())\n",
    "\n",
    "        # total loss\n",
    "        loss = loss_t1 # + loss_t2\n",
    "\n",
    "        #loss = Variable(loss, requires_grad = True)\n",
    "\n",
    "        # backpropagate\n",
    "        loss.backward()\n",
    "        # update parameters\n",
    "        optimizer.step()\n",
    "\n",
    "    # print statistics\n",
    "    if epoch % 1000 == 0:\n",
    "        print(f\"Epoch {epoch}/{epochs} | Loss: {loss.item():.4f}\")\n",
    "\n",
    "\n",
    "\n",
    "\n",
    "    "
   ]
  },
  {
   "attachments": {},
   "cell_type": "markdown",
   "metadata": {},
   "source": [
    "### Evalutation"
   ]
  },
  {
   "cell_type": "code",
   "execution_count": 206,
   "metadata": {},
   "outputs": [
    {
     "name": "stdout",
     "output_type": "stream",
     "text": [
      "===============================\n",
      "Task 1 train accuracy: 83.3400\n",
      "Task 2 train accuracy: 49.0000\n",
      "===============================\n"
     ]
    }
   ],
   "source": [
    "# evaluate model accuracy\n",
    "# predict classes\n",
    "y_pred_t1 = model(x_t1, task_num=1).argmax(dim=1).float()\n",
    "y_pred_t2 = model(x_t2, task_num=2).argmax(dim=1).float()\n",
    "\n",
    "print('===============================')\n",
    "# task 1\n",
    "acc_t1 = (y_pred_t1 == y_t1).sum().item()/n\n",
    "print(f\"Task 1 train accuracy: {acc_t1:.4f}\")\n",
    "# task 2\n",
    "acc_t2 = (y_pred_t2 == y_t2).sum().item()/n\n",
    "print(f\"Task 2 train accuracy: {acc_t2:.4f}\")\n",
    "print('===============================')"
   ]
  },
  {
   "attachments": {},
   "cell_type": "markdown",
   "metadata": {},
   "source": [
    "### Confusion matrix"
   ]
  },
  {
   "cell_type": "code",
   "execution_count": 207,
   "metadata": {},
   "outputs": [
    {
     "data": {
      "image/png": "[encoded data removed]",
      "text/plain": [
       "<Figure size 640x480 with 2 Axes>"
      ]
     },
     "metadata": {},
     "output_type": "display_data"
    },
    {
     "data": {
      "image/png": "[encoded data removed]",
      "text/plain": [
       "<Figure size 640x480 with 2 Axes>"
      ]
     },
     "metadata": {},
     "output_type": "display_data"
    }
   ],
   "source": [
    "# plot confusion matrix\n",
    "from sklearn.metrics import confusion_matrix\n",
    "import numpy as np\n",
    "import seaborn as sns\n",
    "import matplotlib.pyplot as plt\n",
    "\n",
    "def plot_conf_matrix(y, y_pred, targets, task_num=1):\n",
    "    cm = confusion_matrix(y, y_pred)\n",
    "    cm = cm.astype('float') / cm.sum(axis=1)[:, np.newaxis]\n",
    "    sns.heatmap(cm, annot=True, cmap='Blues', xticklabels=targets.values(), yticklabels=targets.values())\n",
    "    plt.xlabel('Predicted')\n",
    "    plt.ylabel('True')\n",
    "    plt.title(f'Confusion Matrix: Task {task_num}')\n",
    "    plt.yticks(rotation=0)\n",
    "    plt.show()\n",
    "\n",
    "targets_t1 = {0: 'P', 1: 'N', 2: 'O'}\n",
    "targets_t2 = {0: 'H', 1: 'S'}\n",
    "\n",
    "plot_conf_matrix(y_t1, y_pred_t1, targets_t1, task_num=1)\n",
    "plot_conf_matrix(y_t2, y_pred_t2, targets_t2, task_num=2)"
   ]
  }
 ],
 "metadata": {
  "kernelspec": {
   "display_name": "MV00",
   "language": "python",
   "name": "python3"
  },
  "language_info": {
   "codemirror_mode": {
    "name": "ipython",
    "version": 3
   },
   "file_extension": ".py",
   "mimetype": "text/x-python",
   "name": "python",
   "nbconvert_exporter": "python",
   "pygments_lexer": "ipython3",
   "version": "3.10.4"
  },
  "orig_nbformat": 4
 },
 "nbformat": 4,
 "nbformat_minor": 2
}
