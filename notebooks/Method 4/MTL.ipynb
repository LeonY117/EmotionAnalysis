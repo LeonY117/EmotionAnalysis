{
 "cells": [
  {
   "attachments": {},
   "cell_type": "markdown",
   "metadata": {},
   "source": [
    "# Method 4: MTL with multiple heads"
   ]
  },
  {
   "cell_type": "code",
   "execution_count": 161,
   "metadata": {},
   "outputs": [],
   "source": [
    "import test\n",
    "import importlib\n",
    "importlib.reload(test)\n",
    "from test import *\n",
    "\n",
    "import torch\n",
    "import torch.nn as nn\n",
    "import torch.nn.functional as F\n",
    "from torch.utils.data import DataLoader"
   ]
  },
  {
   "cell_type": "code",
   "execution_count": 5,
   "metadata": {},
   "outputs": [
    {
     "name": "stdout",
     "output_type": "stream",
     "text": [
      "Hello World\n"
     ]
    }
   ],
   "source": [
    "fun()"
   ]
  },
  {
   "attachments": {},
   "cell_type": "markdown",
   "metadata": {},
   "source": [
    "### Initializing random multi-task data"
   ]
  },
  {
   "cell_type": "code",
   "execution_count": 171,
   "metadata": {},
   "outputs": [],
   "source": [
    "# generate random data vector of dim 10\n",
    "n = 100\n",
    "dim = 10\n",
    "# Task 1: 3 classes {0, 1, 2}\n",
    "x_t1 = torch.rand(n, dim)\n",
    "y_t1 = (x_t1.sum(dim=1)/3).floor()[:,None]\n",
    "\n",
    "# Task 2: 2 classes {0, 1}\n",
    "x_t2 = torch.rand(n, dim)\n",
    "y_t2 = (x_t2.mean(dim=1) * 2).floor()[:,None]\n",
    "\n",
    "\n",
    "assert y_t1.shape == (n,1) and y_t2.shape == (n,1), \"y_t1 and y_t2 should be column vectors\"\n",
    "# wrap into DataLoader\n",
    "train_dataloader = DataLoader((x_t1,y_t1), batch_size=50, shuffle=True)\n",
    "#test_dataloader = DataLoader(test_data, batch_size=64, shuffle=True)\n",
    "\n",
    "\n"
   ]
  },
  {
   "cell_type": "code",
   "execution_count": 172,
   "metadata": {},
   "outputs": [
    {
     "ename": "RuntimeError",
     "evalue": "stack expects each tensor to be equal size, but got [100, 10] at entry 0 and [100, 1] at entry 1",
     "output_type": "error",
     "traceback": [
      "\u001b[0;31m---------------------------------------------------------------------------\u001b[0m",
      "\u001b[0;31mRuntimeError\u001b[0m                              Traceback (most recent call last)",
      "\u001b[1;32m/Users/david/Documents/Projects/EmotionAnalysis/notebooks/Method 4/MTL.ipynb Cell 6\u001b[0m in \u001b[0;36m<cell line: 1>\u001b[0;34m()\u001b[0m\n\u001b[0;32m----> <a href='vscode-notebook-cell:/Users/david/Documents/Projects/EmotionAnalysis/notebooks/Method%204/MTL.ipynb#X33sZmlsZQ%3D%3D?line=0'>1</a>\u001b[0m x, y \u001b[39m=\u001b[39m \u001b[39mnext\u001b[39;49m(\u001b[39miter\u001b[39;49m(train_dataloader))\n",
      "File \u001b[0;32m~/opt/miniconda3/envs/MV00/lib/python3.10/site-packages/torch/utils/data/dataloader.py:628\u001b[0m, in \u001b[0;36m_BaseDataLoaderIter.__next__\u001b[0;34m(self)\u001b[0m\n\u001b[1;32m    625\u001b[0m \u001b[39mif\u001b[39;00m \u001b[39mself\u001b[39m\u001b[39m.\u001b[39m_sampler_iter \u001b[39mis\u001b[39;00m \u001b[39mNone\u001b[39;00m:\n\u001b[1;32m    626\u001b[0m     \u001b[39m# TODO(https://github.com/pytorch/pytorch/issues/76750)\u001b[39;00m\n\u001b[1;32m    627\u001b[0m     \u001b[39mself\u001b[39m\u001b[39m.\u001b[39m_reset()  \u001b[39m# type: ignore[call-arg]\u001b[39;00m\n\u001b[0;32m--> 628\u001b[0m data \u001b[39m=\u001b[39m \u001b[39mself\u001b[39;49m\u001b[39m.\u001b[39;49m_next_data()\n\u001b[1;32m    629\u001b[0m \u001b[39mself\u001b[39m\u001b[39m.\u001b[39m_num_yielded \u001b[39m+\u001b[39m\u001b[39m=\u001b[39m \u001b[39m1\u001b[39m\n\u001b[1;32m    630\u001b[0m \u001b[39mif\u001b[39;00m \u001b[39mself\u001b[39m\u001b[39m.\u001b[39m_dataset_kind \u001b[39m==\u001b[39m _DatasetKind\u001b[39m.\u001b[39mIterable \u001b[39mand\u001b[39;00m \\\n\u001b[1;32m    631\u001b[0m         \u001b[39mself\u001b[39m\u001b[39m.\u001b[39m_IterableDataset_len_called \u001b[39mis\u001b[39;00m \u001b[39mnot\u001b[39;00m \u001b[39mNone\u001b[39;00m \u001b[39mand\u001b[39;00m \\\n\u001b[1;32m    632\u001b[0m         \u001b[39mself\u001b[39m\u001b[39m.\u001b[39m_num_yielded \u001b[39m>\u001b[39m \u001b[39mself\u001b[39m\u001b[39m.\u001b[39m_IterableDataset_len_called:\n",
      "File \u001b[0;32m~/opt/miniconda3/envs/MV00/lib/python3.10/site-packages/torch/utils/data/dataloader.py:671\u001b[0m, in \u001b[0;36m_SingleProcessDataLoaderIter._next_data\u001b[0;34m(self)\u001b[0m\n\u001b[1;32m    669\u001b[0m \u001b[39mdef\u001b[39;00m \u001b[39m_next_data\u001b[39m(\u001b[39mself\u001b[39m):\n\u001b[1;32m    670\u001b[0m     index \u001b[39m=\u001b[39m \u001b[39mself\u001b[39m\u001b[39m.\u001b[39m_next_index()  \u001b[39m# may raise StopIteration\u001b[39;00m\n\u001b[0;32m--> 671\u001b[0m     data \u001b[39m=\u001b[39m \u001b[39mself\u001b[39;49m\u001b[39m.\u001b[39;49m_dataset_fetcher\u001b[39m.\u001b[39;49mfetch(index)  \u001b[39m# may raise StopIteration\u001b[39;00m\n\u001b[1;32m    672\u001b[0m     \u001b[39mif\u001b[39;00m \u001b[39mself\u001b[39m\u001b[39m.\u001b[39m_pin_memory:\n\u001b[1;32m    673\u001b[0m         data \u001b[39m=\u001b[39m _utils\u001b[39m.\u001b[39mpin_memory\u001b[39m.\u001b[39mpin_memory(data, \u001b[39mself\u001b[39m\u001b[39m.\u001b[39m_pin_memory_device)\n",
      "File \u001b[0;32m~/opt/miniconda3/envs/MV00/lib/python3.10/site-packages/torch/utils/data/_utils/fetch.py:61\u001b[0m, in \u001b[0;36m_MapDatasetFetcher.fetch\u001b[0;34m(self, possibly_batched_index)\u001b[0m\n\u001b[1;32m     59\u001b[0m \u001b[39melse\u001b[39;00m:\n\u001b[1;32m     60\u001b[0m     data \u001b[39m=\u001b[39m \u001b[39mself\u001b[39m\u001b[39m.\u001b[39mdataset[possibly_batched_index]\n\u001b[0;32m---> 61\u001b[0m \u001b[39mreturn\u001b[39;00m \u001b[39mself\u001b[39;49m\u001b[39m.\u001b[39;49mcollate_fn(data)\n",
      "File \u001b[0;32m~/opt/miniconda3/envs/MV00/lib/python3.10/site-packages/torch/utils/data/_utils/collate.py:265\u001b[0m, in \u001b[0;36mdefault_collate\u001b[0;34m(batch)\u001b[0m\n\u001b[1;32m    204\u001b[0m \u001b[39mdef\u001b[39;00m \u001b[39mdefault_collate\u001b[39m(batch):\n\u001b[1;32m    205\u001b[0m     \u001b[39mr\u001b[39m\u001b[39m\"\"\"\u001b[39;00m\n\u001b[1;32m    206\u001b[0m \u001b[39m        Function that takes in a batch of data and puts the elements within the batch\u001b[39;00m\n\u001b[1;32m    207\u001b[0m \u001b[39m        into a tensor with an additional outer dimension - batch size. The exact output type can be\u001b[39;00m\n\u001b[0;32m   (...)\u001b[0m\n\u001b[1;32m    263\u001b[0m \u001b[39m            >>> default_collate(batch)  # Handle `CustomType` automatically\u001b[39;00m\n\u001b[1;32m    264\u001b[0m \u001b[39m    \"\"\"\u001b[39;00m\n\u001b[0;32m--> 265\u001b[0m     \u001b[39mreturn\u001b[39;00m collate(batch, collate_fn_map\u001b[39m=\u001b[39;49mdefault_collate_fn_map)\n",
      "File \u001b[0;32m~/opt/miniconda3/envs/MV00/lib/python3.10/site-packages/torch/utils/data/_utils/collate.py:120\u001b[0m, in \u001b[0;36mcollate\u001b[0;34m(batch, collate_fn_map)\u001b[0m\n\u001b[1;32m    118\u001b[0m \u001b[39mif\u001b[39;00m collate_fn_map \u001b[39mis\u001b[39;00m \u001b[39mnot\u001b[39;00m \u001b[39mNone\u001b[39;00m:\n\u001b[1;32m    119\u001b[0m     \u001b[39mif\u001b[39;00m elem_type \u001b[39min\u001b[39;00m collate_fn_map:\n\u001b[0;32m--> 120\u001b[0m         \u001b[39mreturn\u001b[39;00m collate_fn_map[elem_type](batch, collate_fn_map\u001b[39m=\u001b[39;49mcollate_fn_map)\n\u001b[1;32m    122\u001b[0m     \u001b[39mfor\u001b[39;00m collate_type \u001b[39min\u001b[39;00m collate_fn_map:\n\u001b[1;32m    123\u001b[0m         \u001b[39mif\u001b[39;00m \u001b[39misinstance\u001b[39m(elem, collate_type):\n",
      "File \u001b[0;32m~/opt/miniconda3/envs/MV00/lib/python3.10/site-packages/torch/utils/data/_utils/collate.py:163\u001b[0m, in \u001b[0;36mcollate_tensor_fn\u001b[0;34m(batch, collate_fn_map)\u001b[0m\n\u001b[1;32m    161\u001b[0m     storage \u001b[39m=\u001b[39m elem\u001b[39m.\u001b[39mstorage()\u001b[39m.\u001b[39m_new_shared(numel, device\u001b[39m=\u001b[39melem\u001b[39m.\u001b[39mdevice)\n\u001b[1;32m    162\u001b[0m     out \u001b[39m=\u001b[39m elem\u001b[39m.\u001b[39mnew(storage)\u001b[39m.\u001b[39mresize_(\u001b[39mlen\u001b[39m(batch), \u001b[39m*\u001b[39m\u001b[39mlist\u001b[39m(elem\u001b[39m.\u001b[39msize()))\n\u001b[0;32m--> 163\u001b[0m \u001b[39mreturn\u001b[39;00m torch\u001b[39m.\u001b[39;49mstack(batch, \u001b[39m0\u001b[39;49m, out\u001b[39m=\u001b[39;49mout)\n",
      "\u001b[0;31mRuntimeError\u001b[0m: stack expects each tensor to be equal size, but got [100, 10] at entry 0 and [100, 1] at entry 1"
     ]
    }
   ],
   "source": [
    "x, y = next(iter(train_dataloader))"
   ]
  },
  {
   "cell_type": "code",
   "execution_count": 166,
   "metadata": {},
   "outputs": [
    {
     "data": {
      "text/plain": [
       "(torch.Size([100]),\n",
       " tensor([1., 1., 1., 1., 1., 1., 1., 1., 2., 1., 1., 1., 2., 1., 1., 1., 1., 1.,\n",
       "         1., 2., 1., 1., 1., 1., 1., 1., 1., 1., 1., 1., 1., 1., 1., 1., 1., 1.,\n",
       "         2., 0., 1., 1., 1., 2., 1., 2., 1., 0., 1., 1., 1., 2., 1., 1., 1., 1.,\n",
       "         1., 1., 1., 2., 1., 1., 1., 1., 1., 1., 1., 1., 2., 1., 1., 1., 1., 1.,\n",
       "         1., 1., 1., 1., 1., 1., 1., 2., 1., 1., 1., 1., 2., 1., 1., 1., 1., 1.,\n",
       "         1., 1., 1., 1., 1., 1., 1., 1., 1., 2.]))"
      ]
     },
     "execution_count": 166,
     "metadata": {},
     "output_type": "execute_result"
    }
   ],
   "source": [
    "y_t1.shape, y_t1"
   ]
  },
  {
   "cell_type": "code",
   "execution_count": 165,
   "metadata": {},
   "outputs": [
    {
     "data": {
      "text/plain": [
       "(torch.Size([100]),\n",
       " tensor([1., 1., 0., 1., 1., 1., 0., 1., 0., 1., 1., 1., 0., 0., 0., 1., 1., 1.,\n",
       "         1., 1., 0., 1., 1., 1., 1., 0., 0., 1., 1., 0., 0., 0., 0., 1., 1., 0.,\n",
       "         0., 1., 0., 1., 1., 0., 0., 0., 1., 1., 1., 0., 1., 0., 0., 1., 1., 0.,\n",
       "         0., 0., 1., 1., 0., 1., 1., 0., 1., 1., 1., 0., 1., 0., 0., 1., 1., 0.,\n",
       "         0., 0., 1., 0., 1., 1., 0., 1., 0., 0., 1., 0., 0., 1., 1., 1., 0., 1.,\n",
       "         1., 1., 0., 1., 0., 0., 0., 1., 0., 1.]))"
      ]
     },
     "execution_count": 165,
     "metadata": {},
     "output_type": "execute_result"
    }
   ],
   "source": [
    "y_t2.shape, y_t2"
   ]
  },
  {
   "attachments": {},
   "cell_type": "markdown",
   "metadata": {},
   "source": [
    "### MTL mutli-head network"
   ]
  },
  {
   "cell_type": "code",
   "execution_count": 47,
   "metadata": {},
   "outputs": [],
   "source": [
    "# when we have multiple tasks performed on the same input data\n",
    "class MTL(nn.Module):\n",
    "    def __init__(self, dim, h_dim, t1_out, t2_out):\n",
    "        super().__init__()\n",
    "        # joint hidden layers\n",
    "        self.BERT = nn.Linear(dim, h_dim)\n",
    "\n",
    "        # task-specific classification heads\n",
    "        self.cf_t1 = nn.Linear(h_dim, t1_out)\n",
    "        self.cf_t2 = nn.Linear(h_dim, t2_out)\n",
    "\n",
    "    def forward(self, x):\n",
    "        # joint hidden state\n",
    "        h = F.relu(self.BERT(x))\n",
    "        # task 1\n",
    "        p_t1 = F.softmax(self.cf_t1(h), dim=1)\n",
    "        # task 2\n",
    "        p_t2 = F.softmax(self.cf_t2(h), dim=1)\n",
    "    \n",
    "        return [p_t1, p_t2]"
   ]
  },
  {
   "cell_type": "code",
   "execution_count": 50,
   "metadata": {},
   "outputs": [],
   "source": [
    "# when we have multiple tasks performed on different input data\n",
    "class MTL(nn.Module):\n",
    "    '''\n",
    "    returns class probabilities for each task\n",
    "    '''\n",
    "    def __init__(self, dim, h_dim, t1_out, t2_out):\n",
    "        super().__init__()\n",
    "        # joint hidden layers\n",
    "        self.BERT = nn.Linear(dim, h_dim)\n",
    "\n",
    "        # task-specific classification heads\n",
    "        self.cf_t1 = nn.Linear(h_dim, t1_out)\n",
    "        self.cf_t2 = nn.Linear(h_dim, t2_out)\n",
    "\n",
    "    def forward(self, x, task_num=1):\n",
    "        # joint hidden state\n",
    "        h = F.relu(self.BERT(x))\n",
    "        # task 1\n",
    "        if task_num == 1:\n",
    "            p_t1 = F.softmax(self.cf_t1(h), dim=1)\n",
    "            return p_t1\n",
    "        # task 2\n",
    "        elif task_num == 2:\n",
    "            p_t2 = F.softmax(self.cf_t2(h), dim=1)\n",
    "            return p_t2\n",
    "        else:\n",
    "            print(\"Invalid task number\")\n",
    "            return None"
   ]
  },
  {
   "cell_type": "code",
   "execution_count": 143,
   "metadata": {},
   "outputs": [],
   "source": [
    "model = MTL(dim, 10, 3, 2)"
   ]
  },
  {
   "cell_type": "code",
   "execution_count": 111,
   "metadata": {},
   "outputs": [
    {
     "data": {
      "text/plain": [
       "tensor([[0.4525, 0.3207, 0.2268],\n",
       "        [0.4499, 0.2992, 0.2509]], grad_fn=<SoftmaxBackward0>)"
      ]
     },
     "execution_count": 111,
     "metadata": {},
     "output_type": "execute_result"
    }
   ],
   "source": [
    "model.forward(x_t1[0:2], task_num=1)"
   ]
  },
  {
   "cell_type": "code",
   "execution_count": 112,
   "metadata": {},
   "outputs": [],
   "source": [
    "# cross-entropy loss accepts logits as input and either class label or class probabilities vecoter as target: loss(input, target)\n",
    "# has an internal softmax\n",
    "# targets are class indices so {0,1} is valid and {-1,1} is not valid\n",
    "loss_fn = nn.CrossEntropyLoss()"
   ]
  },
  {
   "attachments": {},
   "cell_type": "markdown",
   "metadata": {},
   "source": [
    "### Training procedure"
   ]
  },
  {
   "cell_type": "code",
   "execution_count": 145,
   "metadata": {},
   "outputs": [
    {
     "name": "stdout",
     "output_type": "stream",
     "text": [
      "Epoch 1000/10000 | Loss: 1.1469\n",
      "Epoch 2000/10000 | Loss: 1.0485\n",
      "Epoch 3000/10000 | Loss: 1.0248\n",
      "Epoch 4000/10000 | Loss: 1.0181\n",
      "Epoch 5000/10000 | Loss: 1.0158\n",
      "Epoch 6000/10000 | Loss: 1.0150\n",
      "Epoch 7000/10000 | Loss: 1.0148\n",
      "Epoch 8000/10000 | Loss: 1.0147\n",
      "Epoch 9000/10000 | Loss: 1.0147\n",
      "Epoch 10000/10000 | Loss: 1.0147\n"
     ]
    }
   ],
   "source": [
    "model = MTL(dim, 10, 3, 2)\n",
    "# optimizer: RMSprop as in the paper\n",
    "# alpha: smoothing constant (default: 0.99)\n",
    "# eps: term added to the denominator to improve numerical stability (default: 1e-8)\n",
    "optimizer = torch.optim.RMSprop(model.parameters(), lr=0.001, alpha=0.99, eps=1e-08, weight_decay=0, momentum=0, centered=False)\n",
    "\n",
    "# loss function: cross-entropy\n",
    "loss_fn = nn.CrossEntropyLoss()\n",
    "\n",
    "epochs = 10000\n",
    "\n",
    "for epoch in range(1, epochs+1):\n",
    "    #mini_batches = \n",
    "    #for mini_batch in mini_batches:\n",
    "    # zero the parameter gradients\n",
    "    optimizer.zero_grad()\n",
    "\n",
    "    # task 1\n",
    "    # get class probabilities\n",
    "    p_t1 = model.forward(x_t1, task_num=1)\n",
    "    # make predictions\n",
    "    # y_pred_t1 = p_t1.argmax(dim=1).float()\n",
    "    # compute loss\n",
    "    loss_t1 = loss_fn(p_t1,y_t1.long())\n",
    "\n",
    "    # task 2\n",
    "    # get class probabilities\n",
    "    p_t2 = model.forward(x_t2, task_num=2)\n",
    "    # compute loss\n",
    "    loss_t2 = loss_fn(p_t2,y_t2.long())\n",
    "\n",
    "    # total loss\n",
    "    loss = loss_t1 + loss_t2\n",
    "\n",
    "    #loss = Variable(loss, requires_grad = True)\n",
    "\n",
    "    # backpropagate\n",
    "    loss.backward()\n",
    "    # update parameters\n",
    "    optimizer.step()\n",
    "\n",
    "    # print statistics\n",
    "    if epoch % 1000 == 0:\n",
    "        print(f\"Epoch {epoch}/{epochs} | Loss: {loss.item():.4f}\")\n",
    "\n",
    "\n",
    "\n",
    "\n",
    "    "
   ]
  },
  {
   "attachments": {},
   "cell_type": "markdown",
   "metadata": {},
   "source": [
    "### Evalutation"
   ]
  },
  {
   "cell_type": "code",
   "execution_count": 160,
   "metadata": {},
   "outputs": [
    {
     "name": "stdout",
     "output_type": "stream",
     "text": [
      "===============================\n",
      "Task 1 train accuracy: 0.8500\n",
      "Task 2 train accuracy: 1.0000\n",
      "===============================\n"
     ]
    }
   ],
   "source": [
    "# evaluate model accuracy\n",
    "# predict classes\n",
    "y_pred_t1 = model(x_t1, task_num=1).argmax(dim=1).float()\n",
    "y_pred_t2 = model(x_t2, task_num=2).argmax(dim=1).float()\n",
    "\n",
    "print('===============================')\n",
    "# task 1\n",
    "acc_t1 = (y_pred_t1 == y_t1).sum().item()/n\n",
    "print(f\"Task 1 train accuracy: {acc_t1:.4f}\")\n",
    "# task 2\n",
    "acc_t2 = (y_pred_t2 == y_t2).sum().item()/n\n",
    "print(f\"Task 2 train accuracy: {acc_t2:.4f}\")\n",
    "print('===============================')"
   ]
  },
  {
   "attachments": {},
   "cell_type": "markdown",
   "metadata": {},
   "source": [
    "### Confusion matrix"
   ]
  },
  {
   "cell_type": "code",
   "execution_count": 157,
   "metadata": {},
   "outputs": [
    {
     "data": {
      "image/png": "[encoded data removed]",
      "text/plain": [
       "<Figure size 640x480 with 2 Axes>"
      ]
     },
     "metadata": {},
     "output_type": "display_data"
    },
    {
     "data": {
      "image/png": "[encoded data removed]",
      "text/plain": [
       "<Figure size 640x480 with 2 Axes>"
      ]
     },
     "metadata": {},
     "output_type": "display_data"
    }
   ],
   "source": [
    "# plot confusion matrix\n",
    "from sklearn.metrics import confusion_matrix\n",
    "import numpy as np\n",
    "import seaborn as sns\n",
    "import matplotlib.pyplot as plt\n",
    "\n",
    "def plot_conf_matrix(y, y_pred, targets, task_num=1):\n",
    "    cm = confusion_matrix(y, y_pred)\n",
    "    cm = cm.astype('float') / cm.sum(axis=1)[:, np.newaxis]\n",
    "    sns.heatmap(cm, annot=True, cmap='Blues', xticklabels=targets.values(), yticklabels=targets.values())\n",
    "    plt.xlabel('Predicted')\n",
    "    plt.ylabel('True')\n",
    "    plt.title(f'Confusion Matrix: Task {task_num}')\n",
    "    plt.yticks(rotation=0)\n",
    "    plt.show()\n",
    "\n",
    "targets_t1 = {0: 'P', 1: 'N', 2: 'O'}\n",
    "targets_t2 = {0: 'H', 1: 'S'}\n",
    "\n",
    "plot_conf_matrix(y_t1, y_pred_t1, targets_t1, task_num=1)\n",
    "plot_conf_matrix(y_t2, y_pred_t2, targets_t2, task_num=2)"
   ]
  }
 ],
 "metadata": {
  "kernelspec": {
   "display_name": "MV00",
   "language": "python",
   "name": "python3"
  },
  "language_info": {
   "codemirror_mode": {
    "name": "ipython",
    "version": 3
   },
   "file_extension": ".py",
   "mimetype": "text/x-python",
   "name": "python",
   "nbconvert_exporter": "python",
   "pygments_lexer": "ipython3",
   "version": "3.10.4"
  },
  "orig_nbformat": 4
 },
 "nbformat": 4,
 "nbformat_minor": 2
}
