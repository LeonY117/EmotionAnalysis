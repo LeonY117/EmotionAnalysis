{
 "cells": [
  {
   "attachments": {},
   "cell_type": "markdown",
   "metadata": {},
   "source": [
    "### Environment\n",
    "\n",
    "```\n",
    "python: 3.9.15\n",
    "torch: 1.13.1\n",
    "```\n",
    "\n",
    "**The goal of this notebook** is to look through the children's stories dataset to understand how to preprocess the data"
   ]
  },
  {
   "attachments": {},
   "cell_type": "markdown",
   "metadata": {},
   "source": [
    "### README:\n",
    "\n",
    "II. Contents\n",
    "The document tales.txt lists the basenames of the story files. The below directories each have the same number of files, with a sentence per line. The directories agreeID and agree-sent only contain a subset of the corpus. Text has undergone some preprocessing, and files with infix/suffix 'okpuncs' some additional sentence preprocessing, compared to the emmood file (see the affectdata website). Sentence IDs start on zero for each story.\n",
    "\n",
    "DIRECTORY:\tCONTENT OF EACH FILE IN THE DIRECTORY:\n",
    "\n",
    "1. emmood  \tLists sentences with unmerged affect labels for two annotators (A and B). The label set for both Primary emotion (1em) and Mood were: Angry (A), Disgusted (D), Fearful (F), Happy (H), Neutral (N), Sad (Sa for 1em, abbrev. to S for Mood), Pos.Surprised (Su+ for 1em, abbrev. to + for Mood), and Neg.Surprised (Su- for 1em, abbrev. to - for Mood)\n",
    "\n",
    "        File suffix: .emmood\n",
    "\n",
    "        Format: SentID:SentID\t1emLabelA:1emLabelB\tMoodLabelA:MoodLabelB\tSent\n",
    "\n",
    "        Example: 0:0     N:N     N:N     Once upon a time there was a village shop.\n",
    "\t\t\t\n",
    "2. sent\t\tLists sentences (some additional processing, as for all files with the okpuncs suffix/infix; also see the affectdata website). \n",
    "\n",
    "        File suffix: .sent.okpuncs\n",
    "\n",
    "        Example: Once upon a time there was a village shop.\n",
    "\n",
    "3. pos  \tLists sentences with part-of-speech tags (some additional processing, as for all files with the okpuncs suffix/infix; also see the affectdata website). \n",
    "\n",
    "        File suffix: .sent.okpuncs.props.pos\n",
    "\n",
    "        Format: (Tag word):(Tag word) [...]\n",
    "\n",
    "        Example: (RB Once):(IN upon):(DT a):(NN time):(EX there):(AUX was):(DT a):(NN village):(NN shop):(. .)\n",
    "\n",
    "4. agreeID  \tLists only sentence IDs with AFFECTIVE HIGH AGGREMENTS, i.e. sentences with four identical affects. The merged labelset was used: Angry-Disgusted (merged), Fearful, Happy, Sad, and Surprised (merged). Note that the HighAgree subcorpus concerned sentences with affective labels, i.e. sentences with four Neutral labels are NOT included!\n",
    "\n",
    "        File suffix: .agreeID\n",
    "\n",
    "        Format: SentID\n",
    "\n",
    "        Example: 35\n",
    "\n",
    "5. agree-sent  \tLists only sentences with AFFECTIVE HIGH AGGREMENTS (see description for corresponding agreeID directory). The Affective Label Codes are: 2=Angry-Disgusted, 3=Fearful, 4=Happy, 6=Sad, 7=Surprised\n",
    "\n",
    "        File suffix: .agree\n",
    "\n",
    "        Format: SentID@AffectiveLabelCode@Sentence \n",
    "\n",
    "        Example: 35@3@\"It is very unpleasant, I am afraid of the police,\" said Pickles."
   ]
  },
  {
   "attachments": {},
   "cell_type": "markdown",
   "metadata": {},
   "source": [
    "### Sentences"
   ]
  },
  {
   "cell_type": "code",
   "execution_count": 15,
   "metadata": {},
   "outputs": [
    {
     "name": "stdout",
     "output_type": "stream",
     "text": [
      "['Some men are born to good luck: all they do or try to do comes right -- all that falls to them is so much gain -- all their geese are swans -- all their cards are trumps -- toss them which way you will, they will always, like poor puss, alight upon their legs, and only move on so much the faster.', 'The world may very likely not always think of them as they think of themselves, but what care they for the world? what can it know about the matter?', 'One of these lucky beings was neighbour Hans.', 'Seven long years he had worked hard for his master.', 'At last he said, \"Master, my time is up; I must go home and see my poor mother once more: so pray pay me my wages and let me go.\"', 'And the master said, \"You have been a faithful and good servant, Hans, so your pay shall be handsome.\"', 'Then he gave him a lump of silver as big as his head.', 'Hans took out his pocket-handkerchief, put the piece of silver into it, threw it over his shoulder, and jogged off on his road homewards.', 'As he went lazily on, dragging one foot after another, a man came in sight, trotting gaily along on a capital horse.', '\"Ah!\" said Hans aloud, \"what a fine thing it is to ride on horseback!\"']\n",
      "../data/children/Grimms/the_dog_and_the_sparrow\n"
     ]
    }
   ],
   "source": [
    "import os\n",
    "\n",
    "# The folder sent contains all the original sentences \n",
    "# The loop below stores all the sentences into a dictionary that can be indexed by \n",
    "# calling sentences[author_name][file_name]\n",
    "\n",
    "DATA_PATH = '../data/children' # relative to this notebook\n",
    "authors = ['Grimms', 'HCAndersen', 'Potter']\n",
    "FOLDER = 'sent'\n",
    "\n",
    "sentences = {a:{} for a in authors}\n",
    "\n",
    "for AUTHOR in authors:\n",
    "    for f in os.listdir(os.path.join(DATA_PATH, AUTHOR, FOLDER)):\n",
    "        filename = f.split('.')[0]\n",
    "        with open(os.path.join(DATA_PATH, AUTHOR, FOLDER, f)) as file:\n",
    "            lines = file.readlines()\n",
    "            lines = [line.strip() for line in lines] # remove \\n\n",
    "        sentences[AUTHOR][filename] = lines\n",
    "\n",
    "# to retrieve sentences:\n",
    "print(sentences['Grimms']['hans_in_luck'][:10])\n",
    "\n",
    "# all the path to the files are now stored:\n",
    "filepaths = []\n",
    "for (author, content) in sentences.items():\n",
    "    for filename in content.keys():\n",
    "        filepath = os.path.join(DATA_PATH, author, filename)\n",
    "        filepaths.append(filepath)\n",
    "\n",
    "print(filepaths[11])\n"
   ]
  },
  {
   "cell_type": "code",
   "execution_count": 28,
   "metadata": {},
   "outputs": [
    {
     "name": "stdout",
     "output_type": "stream",
     "text": [
      "Some men are born to good luck: all they do or try to do comes right -- all that falls to them is so much gain -- all their geese are swans -- all their cards are trumps -- toss them which way you will, they will always, like poor puss, alight upon their legs, and only move on so much the faster.\n",
      "[['N', 'N'], ['N', 'N']]\n",
      "The world may very likely not always think of them as they think of themselves, but what care they for the world? what can it know about the matter?\n",
      "[['N', 'N'], ['N', 'N']]\n",
      "One of these lucky beings was neighbour Hans.\n",
      "[['N', 'N'], ['N', 'N']]\n",
      "Seven long years he had worked hard for his master.\n",
      "[['N', 'N'], ['N', 'N']]\n",
      "At last he said, \"Master, my time is up; I must go home and see my poor mother once more: so pray pay me my wages and let me go.\"\n",
      "[['Sa', 'Sa'], ['N', 'S']]\n"
     ]
    }
   ],
   "source": [
    "### Emotion annotations\n",
    "\n",
    "FOLDER = 'emmood'\n",
    "annotations = {a:{} for a in authors}\n",
    "\n",
    "emo_map = {\n",
    "    \n",
    "}\n",
    "\n",
    "for AUTHOR in authors:\n",
    "    for f in os.listdir(os.path.join(DATA_PATH, AUTHOR, FOLDER)):\n",
    "        filename = f.split('.')[0]\n",
    "        annotations[AUTHOR][filename] = []\n",
    "        with open(os.path.join(DATA_PATH, AUTHOR, FOLDER, f)) as file:\n",
    "            lines = file.readlines()\n",
    "            for i, line in enumerate(lines):\n",
    "                [_, a1, a2] = line.split('\\t')[:3]\n",
    "                a1 = a1.split(':')\n",
    "                a2 = a2.split(':')\n",
    "                annotations[AUTHOR][filename].append([a1, a2])\n",
    "\n",
    "sentence = sentences['Grimms']['hans_in_luck']\n",
    "annotation = annotations['Grimms']['hans_in_luck']\n",
    "\n",
    "for (s, a) in zip(sentence[:5], annotation):\n",
    "    print(s)\n",
    "    print(a)"
   ]
  },
  {
   "attachments": {},
   "cell_type": "markdown",
   "metadata": {},
   "source": [
    "### Distribution emotions"
   ]
  },
  {
   "cell_type": "code",
   "execution_count": 33,
   "metadata": {},
   "outputs": [],
   "source": [
    "emo_count = {}\n",
    "\n",
    "for book in annotations.values():\n",
    "    for all_annotations in book.values():\n",
    "        for annotation in all_annotations:\n",
    "            [a1, a2] = annotation\n",
    "            for a in [a1[0], a1[1], a2[0], a2[1]]:\n",
    "                if a in emo_count:\n",
    "                    emo_count[a] += 1\n",
    "                else:\n",
    "                    emo_count[a] = 0"
   ]
  },
  {
   "cell_type": "code",
   "execution_count": 35,
   "metadata": {},
   "outputs": [
    {
     "data": {
      "text/plain": [
       "<BarContainer object of 11 artists>"
      ]
     },
     "execution_count": 35,
     "metadata": {},
     "output_type": "execute_result"
    },
    {
     "data": {
      "image/png": "[encoded data removed]",
      "text/plain": [
       "<Figure size 640x480 with 1 Axes>"
      ]
     },
     "metadata": {},
     "output_type": "display_data"
    }
   ],
   "source": [
    "import matplotlib.pyplot as plt\n",
    "\n",
    "plt.bar(emo_count.keys(), emo_count.values())"
   ]
  },
  {
   "cell_type": "code",
   "execution_count": null,
   "metadata": {},
   "outputs": [],
   "source": [
    "f"
   ]
  }
 ],
 "metadata": {
  "kernelspec": {
   "display_name": "base",
   "language": "python",
   "name": "python3"
  },
  "language_info": {
   "codemirror_mode": {
    "name": "ipython",
    "version": 3
   },
   "file_extension": ".py",
   "mimetype": "text/x-python",
   "name": "python",
   "nbconvert_exporter": "python",
   "pygments_lexer": "ipython3",
   "version": "3.9.12"
  },
  "orig_nbformat": 4,
  "vscode": {
   "interpreter": {
    "hash": "19d1d53a962d236aa061289c2ac16dc8e6d9648c89fe79f459ae9a3493bc67b4"
   }
  }
 },
 "nbformat": 4,
 "nbformat_minor": 2
}
