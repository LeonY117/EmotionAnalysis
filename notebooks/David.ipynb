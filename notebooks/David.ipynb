{
 "cells": [
  {
   "attachments": {},
   "cell_type": "markdown",
   "metadata": {},
   "source": [
    "### Shared Embedding model\n",
    "- note that you have to change the model initialization in the Training Manager"
   ]
  },
  {
   "cell_type": "code",
   "execution_count": null,
   "metadata": {},
   "outputs": [],
   "source": [
    "class LELNetwork(nn.Module):\n",
    "  def __init__(self, h_size=256, dropout=0):\n",
    "    super().__init__()\n",
    "    \n",
    "    self.shared_base = nn.Linear(768, h_size)\n",
    "    self.LEL = nn.Linear(h_size, OUT_DIMS['ekman']+OUT_DIMS['vad']+OUT_DIMS['sem'], bias=False)\n",
    "\n",
    "    self.dropout = nn.Dropout(p=dropout, inplace=False)\n",
    "    self.relu = nn.ReLU()\n",
    "    self.softmax = nn.LogSoftmax(dim=1)\n",
    "    self.sigmoid = nn.Sigmoid()\n",
    "\n",
    "  def forward(self, x, task):  \n",
    "\n",
    "    x = self.relu(self.shared_base(x))\n",
    "    x = self.dropout(x)\n",
    "    y = self.LEL(x)\n",
    "    ekman_filter = task[:, 0].unsqueeze(-1)\n",
    "    vad_filter = task[:, 1].unsqueeze(-1)\n",
    "    sem_filter = task[:, 2].unsqueeze(-1)\n",
    "\n",
    "    y[:, 0:5] = self.softmax(y[:, 0:5] * ekman_filter)\n",
    "    y[:, 5:8] = self.relu(y[:, 5:8] * vad_filter)\n",
    "    y[:,8:] = self.sigmoid(y[:, 8:] * sem_filter)\n",
    "\n",
    "    return y"
   ]
  },
  {
   "attachments": {},
   "cell_type": "markdown",
   "metadata": {},
   "source": [
    "### Plot correlation matrix"
   ]
  },
  {
   "cell_type": "code",
   "execution_count": null,
   "metadata": {},
   "outputs": [],
   "source": [
    "def plot_LEL(net):\n",
    "  np.random.seed(42)\n",
    "  # Get the Label Embedding Layer weights\n",
    "  L = net.LEL.weight.data.cpu().numpy()\n",
    "\n",
    "  # Calculate the correlation matrix\n",
    "  corr_matrix = np.corrcoef(L.T, rowvar=False)\n",
    "  \n",
    "  #Remove VAD from matrix\n",
    "  # indices_to_remove = np.arange(5, 8) \n",
    "  # Remove the specified rows\n",
    "  # corr_matrix = np.delete(corr_matrix, indices_to_remove, axis=0)\n",
    "  # Remove the specified columns\n",
    "  # corr_matrix = np.delete(corr_matrix, indices_to_remove, axis=1)\n",
    "  \n",
    "  labels = ['anger-disgust (Ek)', 'fear (Ek)', 'happy (Ek)', 'sad (Ek)', 'surprise (Ek)', 'V', 'A', 'D', 'anger (S)', 'anticipation (S)', 'disgust (S)', 'fear (S)', 'joy (S)', 'love (S)', 'optimism (S)', 'pessimism (S)', 'sadness (S)', 'surprise (S)', 'trust (S)']\n",
    " \n",
    "  fig, ax = plt.subplots(figsize=(8, 8))\n",
    "  # Create a heatmap of the correlation matrix\n",
    "  im = ax.imshow(corr_matrix, cmap='magma', vmin=-1, vmax=1, alpha=0.5)\n",
    "  # Add a colorbar\n",
    "  cbar = ax.figure.colorbar(im, ax=ax, shrink=0.8)\n",
    "  # Set the ticks and ticklabels for the x-axis and y-axis\n",
    "  ax.set_xticks(np.arange(corr_matrix.shape[0]))\n",
    "  ax.set_yticks(np.arange(corr_matrix.shape[1]))\n",
    "  ax.set_xticklabels(labels)\n",
    "  ax.set_yticklabels(labels)\n",
    "  # Rotate the ticklabels and set them to center alignment\n",
    "  plt.setp(ax.get_xticklabels(), rotation=45, ha=\"right\", rotation_mode=\"anchor\")\n",
    "\n",
    "  # Loop over data dimensions and create text annotations\n",
    "  for i in range(corr_matrix.shape[0]):\n",
    "      for j in range(corr_matrix.shape[1]):\n",
    "          text = ax.text(j, i, np.round(corr_matrix[i, j], 1),\n",
    "                        ha=\"center\", va=\"center\", color=\"black\", fontsize=8)\n",
    "          \n",
    "  # Set the title of the plot\n",
    "  ax.set_title(\"Label Correlation Matrix\")\n",
    "\n",
    "  # Adjust the layout\n",
    "  plt.tight_layout()\n",
    "\n",
    "  # save the matrix to a CSV file with headers\n",
    "  # np.savetxt('corr_matrix.csv', corr_matrix, delimiter=',', header=','.join(labels), comments='', fmt='%d', \n",
    "            # footer='\\n'.join(labels))\n",
    "\n",
    "  plt.savefig('corr_matrix.png', dpi=300)\n",
    "\n",
    "  # Show the plot\n",
    "  plt.show()"
   ]
  }
 ],
 "metadata": {
  "language_info": {
   "name": "python"
  },
  "orig_nbformat": 4
 },
 "nbformat": 4,
 "nbformat_minor": 2
}
