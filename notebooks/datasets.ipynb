{
 "cells": [
  {
   "cell_type": "code",
   "execution_count": 14,
   "metadata": {},
   "outputs": [],
   "source": [
    "import numpy as np\n",
    "import nltk\n",
    "import pandas as pd"
   ]
  },
  {
   "attachments": {},
   "cell_type": "markdown",
   "metadata": {},
   "source": [
    "## Lexicon based methods"
   ]
  },
  {
   "attachments": {},
   "cell_type": "markdown",
   "metadata": {},
   "source": [
    "Load in VADER"
   ]
  },
  {
   "cell_type": "code",
   "execution_count": 15,
   "metadata": {},
   "outputs": [],
   "source": [
    "# nltk.download('vader_lexicon')\n",
    "\n",
    "from nltk.sentiment.vader import SentimentIntensityAnalyzer\n",
    "vds = SentimentIntensityAnalyzer()"
   ]
  },
  {
   "cell_type": "code",
   "execution_count": 16,
   "metadata": {},
   "outputs": [
    {
     "data": {
      "text/plain": [
       "{'neg': 0.0, 'neu': 1.0, 'pos': 0.0, 'compound': 0.0}"
      ]
     },
     "execution_count": 16,
     "metadata": {},
     "output_type": "execute_result"
    }
   ],
   "source": [
    "test = \"hello i am a test string\"\n",
    "vds.polarity_scores(test)"
   ]
  },
  {
   "attachments": {},
   "cell_type": "markdown",
   "metadata": {},
   "source": [
    "Load in TextBlob"
   ]
  },
  {
   "cell_type": "code",
   "execution_count": 17,
   "metadata": {},
   "outputs": [],
   "source": [
    "from textblob import TextBlob"
   ]
  },
  {
   "cell_type": "code",
   "execution_count": 18,
   "metadata": {},
   "outputs": [
    {
     "data": {
      "text/plain": [
       "Sentiment(polarity=0.0, subjectivity=0.0)"
      ]
     },
     "execution_count": 18,
     "metadata": {},
     "output_type": "execute_result"
    }
   ],
   "source": [
    "wiki = TextBlob(test)\n",
    "wiki.sentiment"
   ]
  },
  {
   "attachments": {},
   "cell_type": "markdown",
   "metadata": {},
   "source": [
    "Load in AFINN"
   ]
  },
  {
   "cell_type": "code",
   "execution_count": 19,
   "metadata": {},
   "outputs": [],
   "source": [
    "from afinn import Afinn\n",
    "afn = Afinn()"
   ]
  },
  {
   "cell_type": "code",
   "execution_count": 20,
   "metadata": {},
   "outputs": [
    {
     "data": {
      "text/plain": [
       "0.0"
      ]
     },
     "execution_count": 20,
     "metadata": {},
     "output_type": "execute_result"
    }
   ],
   "source": [
    "afn.score(test)"
   ]
  },
  {
   "attachments": {},
   "cell_type": "markdown",
   "metadata": {},
   "source": [
    "## Datasets"
   ]
  },
  {
   "attachments": {},
   "cell_type": "markdown",
   "metadata": {},
   "source": [
    "Load in EmoBank and AffectiveText."
   ]
  },
  {
   "cell_type": "code",
   "execution_count": 72,
   "metadata": {},
   "outputs": [
    {
     "name": "stdout",
     "output_type": "stream",
     "text": [
      "EmoBank:\n",
      "                    id  split     V     A     D  \\\n",
      "0  110CYL068_1036_1079  train  3.00  3.00  3.20   \n",
      "1  110CYL068_1079_1110   test  2.80  3.10  2.80   \n",
      "2  110CYL068_1127_1130  train  3.00  3.00  3.00   \n",
      "3  110CYL068_1137_1188  train  3.44  3.00  3.22   \n",
      "4  110CYL068_1189_1328  train  3.55  3.27  3.46   \n",
      "\n",
      "                                                text  \n",
      "0        Remember what she said in my last letter? \"  \n",
      "1                          If I wasn't working here.  \n",
      "2                                                ..\"  \n",
      "3  Goodwill helps people get off of public assist...  \n",
      "4  Sherry learned through our Future Works class ...  \n",
      "Repeated rows:\n",
      "Empty DataFrame\n",
      "Columns: [id, split, V, A, D, text]\n",
      "Index: []\n",
      "AffectiveText:\n",
      "   id                                   instance  anger  disgust  fear  joy  \\\n",
      "0   1     Mortar assault leaves at least 18 dead     22        2    60    0   \n",
      "1   2                     Goal delight for Sheva      0        0     0   93   \n",
      "2   3       Nigeria hostage feared dead is freed     18        0    52   66   \n",
      "3   4                      Bombers kill shoppers     66       39    94    0   \n",
      "4   5  Vegetables, not fruit, slow brain decline      0        0    25   26   \n",
      "\n",
      "   sadness  surprise  \n",
      "0       64         0  \n",
      "1        0        38  \n",
      "2       20        65  \n",
      "3       86         0  \n",
      "4        2        46  \n",
      "Repeated rows:\n",
      "Empty DataFrame\n",
      "Columns: [id, instance, anger, disgust, fear, joy, sadness, surprise]\n",
      "Index: []\n"
     ]
    }
   ],
   "source": [
    "# EmoBank\n",
    "eb = pd.read_csv('../../data/clean/emobank.csv')\n",
    "print(\"EmoBank:\")\n",
    "print(eb.head())\n",
    "# check for repeated rows\n",
    "print(\"Repeated rows:\")\n",
    "print(eb[eb.duplicated()])\n",
    "\n",
    "# AffectiveText trial\n",
    "at = pd.read_xml('../../data/raw/AffectiveText/AffectiveText.trial/affectivetext_trial.xml')\n",
    "columns = ['id', 'anger', 'disgust', 'fear', 'joy', 'sadness', 'surprise']\n",
    "at_em = pd.read_csv('../../data/raw/AffectiveText/AffectiveText.trial/affectivetext_trial_emotions.csv'\\\n",
    "                    ,names=columns, sep=' ')\n",
    "# add emotion labels to at\n",
    "for emotion in columns[1:]:\n",
    "    at[emotion] = at_em[emotion]\n",
    "\n",
    "# AffectiveText test\n",
    "at_test = pd.read_xml('../../data/raw/AffectiveText/AffectiveText.test/affectivetext_test.xml')\n",
    "at_test_em = pd.read_csv('../../data/raw/AffectiveText/AffectiveText.test/affectivetext_test_emotions.csv'\\\n",
    "                    , names=columns, sep=' ')\n",
    "# add emotion labels to at_test\n",
    "for emotion in columns[1:]:\n",
    "    at_test[emotion] = at_test_em[emotion]\n",
    "# combine at and at_test\n",
    "at = pd.concat([at, at_test], ignore_index=True)\n",
    "print(\"AffectiveText:\")\n",
    "print(at.head())\n",
    "# check for repeated rows\n",
    "print(\"Repeated rows:\")\n",
    "print(at[at.duplicated()])\n",
    "# save to csv\n",
    "at.to_csv('../../data/clean/AffectiveText.csv', index=False)"
   ]
  },
  {
   "attachments": {},
   "cell_type": "markdown",
   "metadata": {},
   "source": [
    "Identify and merge the overlap between the two datasets."
   ]
  },
  {
   "cell_type": "code",
   "execution_count": 84,
   "metadata": {},
   "outputs": [
    {
     "name": "stdout",
     "output_type": "stream",
     "text": [
      "Repeated rows: 21\n",
      "     id  split     V     A     D  \\\n",
      "0     1  train  2.29  3.29  2.86   \n",
      "1    10  train  3.50  2.88  3.00   \n",
      "2   100  train  2.88  3.00  3.00   \n",
      "3  1000  train  2.00  3.62  2.75   \n",
      "4  1001  train  2.80  3.00  3.00   \n",
      "\n",
      "                                                text  \\\n",
      "0             Mortar assault leaves at least 18 dead   \n",
      "1  Alonso would be happy to retire with three titles   \n",
      "2                Report criticises US press freedoms   \n",
      "3  Terror officials see Al Qaeda chiefs regaining...   \n",
      "4  Ivrea journal: In Italian town, a civics lesso...   \n",
      "\n",
      "                                            instance  anger  disgust  fear  \\\n",
      "0             Mortar assault leaves at least 18 dead     22        2    60   \n",
      "1  Alonso would be happy to retire with three titles      0        0     0   \n",
      "2                Report criticises US press freedoms     25       24     6   \n",
      "3  Terror officials see Al Qaeda chiefs regaining...     13       11    86   \n",
      "4  Ivrea journal: In Italian town, a civics lesso...      0        5     0   \n",
      "\n",
      "   joy  sadness  surprise  \n",
      "0    0       64         0  \n",
      "1   61       24         0  \n",
      "2   21       13        13  \n",
      "3    0       16         3  \n",
      "4    3        0        25  \n"
     ]
    }
   ],
   "source": [
    "# clean up EmoBank ids to match AffectiveText\n",
    "eb['id'] = eb['id'].str.replace('SemEval_', '')\n",
    "at['id'] = at['id'].astype(str)\n",
    "# merge EmoBank and AffectiveText\n",
    "eb_at = pd.merge(eb, at, how='inner', left_on='id', right_on='id',validate='one_to_one')\n",
    "# check for repeated rows\n",
    "print(\"Repeated rows:\",len(eb_at[eb_at['instance'].duplicated()]))\n",
    "print(eb_at.head())\n",
    "eb_at.to_csv('../../data/clean/EmoBank_AffectiveText.csv', index=False)\n",
    "# check for any non-matching examples\n",
    "assert len(eb_at[eb_at['text'] == eb_at['instance']]) == len(eb_at)-1\\\n",
    "    , \"There are non-matching examples\""
   ]
  },
  {
   "cell_type": "code",
   "execution_count": 25,
   "metadata": {},
   "outputs": [
    {
     "data": {
      "text/plain": [
       "id       1192\n",
       "split    1192\n",
       "V        1192\n",
       "A        1192\n",
       "D        1192\n",
       "text     1192\n",
       "in_at    1192\n",
       "dtype: int64"
      ]
     },
     "execution_count": 25,
     "metadata": {},
     "output_type": "execute_result"
    },
    {
     "data": {
      "image/png": "[encoded data removed]",
      "text/plain": [
       "<Figure size 640x480 with 1 Axes>"
      ]
     },
     "metadata": {},
     "output_type": "display_data"
    }
   ],
   "source": [
    "# plot number of instances per emotion\n",
    "at[columns[1:]].sum().plot(kind='bar')\n",
    "# count number of instances in eb with \"SemEval\" in id\n",
    "eb[eb['id'].str.contains('SemEval')].count()"
   ]
  }
 ],
 "metadata": {
  "kernelspec": {
   "display_name": "base",
   "language": "python",
   "name": "python3"
  },
  "language_info": {
   "codemirror_mode": {
    "name": "ipython",
    "version": 3
   },
   "file_extension": ".py",
   "mimetype": "text/x-python",
   "name": "python",
   "nbconvert_exporter": "python",
   "pygments_lexer": "ipython3",
   "version": "3.9.12"
  },
  "orig_nbformat": 4,
  "vscode": {
   "interpreter": {
    "hash": "19d1d53a962d236aa061289c2ac16dc8e6d9648c89fe79f459ae9a3493bc67b4"
   }
  }
 },
 "nbformat": 4,
 "nbformat_minor": 2
}
